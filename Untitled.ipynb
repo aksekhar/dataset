{
 "cells": [
  {
   "cell_type": "code",
   "execution_count": 2,
   "metadata": {},
   "outputs": [],
   "source": [
    "import org.apache.spark.sql.SparkSession"
   ]
  },
  {
   "cell_type": "code",
   "execution_count": 7,
   "metadata": {},
   "outputs": [
    {
     "data": {
      "text/plain": [
       "spark = org.apache.spark.sql.SparkSession@74ebe4bc\n"
      ]
     },
     "metadata": {},
     "output_type": "display_data"
    },
    {
     "data": {
      "text/plain": [
       "org.apache.spark.sql.SparkSession@74ebe4bc"
      ]
     },
     "execution_count": 7,
     "metadata": {},
     "output_type": "execute_result"
    }
   ],
   "source": [
    "val spark = SparkSession.builder().master(\"local\")\n",
    "    .appName(\"MapRDemo2\").getOrCreate()"
   ]
  },
  {
   "cell_type": "code",
   "execution_count": 10,
   "metadata": {},
   "outputs": [],
   "source": [
    "  import spark.implicits._\n",
    "import org.apache.spark.sql.types.{DoubleType, StringType, StructField, StructType}\n"
   ]
  },
  {
   "cell_type": "code",
   "execution_count": 11,
   "metadata": {},
   "outputs": [
    {
     "data": {
      "text/plain": [
       "retail_schema = StructType(StructField(InvoiceNo,StringType,true), StructField(StockCode,StringType,true), StructField(Description,StringType,true), StructField(Quantity,StringType,true), StructField(InvoiceDate,StringType,true), StructField(UnitPrice,DoubleType,true), StructField(CustomerID,StringType,true), StructField(Country,StringType,true))\n"
      ]
     },
     "metadata": {},
     "output_type": "display_data"
    },
    {
     "data": {
      "text/plain": [
       "StructType(StructField(InvoiceNo,StringType,true), StructField(StockCode,StringType,true), StructField(Description,StringType,true), StructField(Quantity,StringType,true), StructField(InvoiceDate,StringType,true), StructField(UnitPrice,DoubleType,true), StructField(CustomerID,StringType,true), StructField(Country,StringType,true))"
      ]
     },
     "execution_count": 11,
     "metadata": {},
     "output_type": "execute_result"
    }
   ],
   "source": [
    "  val retail_schema= StructType(\n",
    "    StructField(\"InvoiceNo\",StringType,true)::\n",
    "      StructField(\"StockCode\",StringType,true) ::\n",
    "      StructField(\"Description\",StringType,true) ::\n",
    "      StructField(\"Quantity\",StringType,true) ::\n",
    "      StructField(\"InvoiceDate\",StringType,true) ::\n",
    "      StructField(\"UnitPrice\",DoubleType,true) ::\n",
    "      StructField(\"CustomerID\",StringType,true) ::\n",
    "      StructField(\"Country\",StringType,true) :: Nil\n",
    "  )"
   ]
  },
  {
   "cell_type": "code",
   "execution_count": 12,
   "metadata": {},
   "outputs": [],
   "source": [
    "import org.apache.spark.sql.types.{DoubleType, StringType, StructField, StructType}\n"
   ]
  },
  {
   "cell_type": "code",
   "execution_count": 14,
   "metadata": {},
   "outputs": [
    {
     "data": {
      "text/plain": [
       "retail_df = [InvoiceNo: string, StockCode: string ... 6 more fields]\n"
      ]
     },
     "metadata": {},
     "output_type": "display_data"
    },
    {
     "data": {
      "text/plain": [
       "[InvoiceNo: string, StockCode: string ... 6 more fields]"
      ]
     },
     "execution_count": 14,
     "metadata": {},
     "output_type": "execute_result"
    }
   ],
   "source": [
    "val retail_df= spark.read.option(\"header\", \"true\").format(\"csv\").schema(retail_schema)\n",
    "    .load(\"Online_Retail_withoutHearer.csv\")\n"
   ]
  },
  {
   "cell_type": "code",
   "execution_count": 15,
   "metadata": {},
   "outputs": [
    {
     "data": {
      "text/plain": [
       "defined class retail_data\n"
      ]
     },
     "metadata": {},
     "output_type": "display_data"
    }
   ],
   "source": [
    "\n",
    "  case class retail_data(InvoiceNo: String,StockCode: String,Description: String,\n",
    "                         Quantity: String,InvoiceDate: String,UnitPrice: Double,CustomerID: String,Country: String)\n",
    "\n",
    "  "
   ]
  },
  {
   "cell_type": "code",
   "execution_count": 16,
   "metadata": {},
   "outputs": [
    {
     "data": {
      "text/plain": [
       "retail_ds = [InvoiceNo: string, StockCode: string ... 6 more fields]\n"
      ]
     },
     "metadata": {},
     "output_type": "display_data"
    },
    {
     "data": {
      "text/plain": [
       "[InvoiceNo: string, StockCode: string ... 6 more fields]"
      ]
     },
     "execution_count": 16,
     "metadata": {},
     "output_type": "execute_result"
    }
   ],
   "source": [
    "val  retail_ds = retail_df.as[retail_data]\n",
    "\n"
   ]
  },
  {
   "cell_type": "code",
   "execution_count": 17,
   "metadata": {},
   "outputs": [
    {
     "name": "stdout",
     "output_type": "stream",
     "text": [
      "root\n",
      " |-- InvoiceNo: string (nullable = true)\n",
      " |-- StockCode: string (nullable = true)\n",
      " |-- Description: string (nullable = true)\n",
      " |-- Quantity: string (nullable = true)\n",
      " |-- InvoiceDate: string (nullable = true)\n",
      " |-- UnitPrice: double (nullable = true)\n",
      " |-- CustomerID: string (nullable = true)\n",
      " |-- Country: string (nullable = true)\n",
      "\n"
     ]
    }
   ],
   "source": [
    "  retail_ds.printSchema()"
   ]
  },
  {
   "cell_type": "code",
   "execution_count": 19,
   "metadata": {},
   "outputs": [
    {
     "data": {
      "text/plain": [
       "grp_ds = RelationalGroupedDataset: [grouping expressions: [Country: string], value: [Country: string, UnitPrice: double], type: GroupBy]\n"
      ]
     },
     "metadata": {},
     "output_type": "display_data"
    },
    {
     "data": {
      "text/plain": [
       "RelationalGroupedDataset: [grouping expressions: [Country: string], value: [Country: string, UnitPrice: double], type: GroupBy]"
      ]
     },
     "execution_count": 19,
     "metadata": {},
     "output_type": "execute_result"
    }
   ],
   "source": [
    "val grp_ds = retail_ds.select(\"Country\",\"UnitPrice\").groupBy(\"Country\")"
   ]
  },
  {
   "cell_type": "code",
   "execution_count": 20,
   "metadata": {},
   "outputs": [
    {
     "name": "stdout",
     "output_type": "stream",
     "text": [
      "+------------------+-----+\n",
      "|           Country|count|\n",
      "+------------------+-----+\n",
      "|            Sweden|  462|\n",
      "|         Singapore|  229|\n",
      "|           Germany| 9495|\n",
      "|               RSA|   58|\n",
      "|            France| 8557|\n",
      "|            Greece|  146|\n",
      "|European Community|   61|\n",
      "|           Belgium| 2069|\n",
      "|           Finland|  695|\n",
      "|             Malta|  127|\n",
      "|       Unspecified|  446|\n",
      "|             Italy|  803|\n",
      "|              EIRE| 8196|\n",
      "|         Lithuania|   35|\n",
      "|            Norway| 1086|\n",
      "|             Spain| 2533|\n",
      "|           Denmark|  389|\n",
      "|         Hong Kong|  288|\n",
      "|           Iceland|  182|\n",
      "|            Israel|  297|\n",
      "+------------------+-----+\n",
      "only showing top 20 rows\n",
      "\n"
     ]
    }
   ],
   "source": [
    "grp_ds.count().show()"
   ]
  },
  {
   "cell_type": "code",
   "execution_count": null,
   "metadata": {},
   "outputs": [],
   "source": []
  }
 ],
 "metadata": {
  "kernelspec": {
   "display_name": "Apache Toree - Scala",
   "language": "scala",
   "name": "apache_toree_scala"
  },
  "language_info": {
   "codemirror_mode": "text/x-scala",
   "file_extension": ".scala",
   "mimetype": "text/x-scala",
   "name": "scala",
   "pygments_lexer": "scala",
   "version": "2.11.12"
  }
 },
 "nbformat": 4,
 "nbformat_minor": 2
}
